{
 "cells": [
  {
   "cell_type": "code",
   "execution_count": 29,
   "id": "7439d739",
   "metadata": {},
   "outputs": [],
   "source": [
    "import numpy as np\n",
    "import matplotlib.pyplot as plt\n",
    "from numpy.random import seed\n",
    "from numpy.random import randint"
   ]
  },
  {
   "cell_type": "code",
   "execution_count": 45,
   "id": "cfb525e6",
   "metadata": {},
   "outputs": [
    {
     "name": "stdout",
     "output_type": "stream",
     "text": [
      "jobs =  [0 1 2 3 4 5 6 7]  duedate =  [10 50 50  0 20  0  0 70]\n",
      "*jobs =  [3 5 6 0 4 1 2 7]  *duedate =  [ 0  0  0 10 20 50 50 70]\n"
     ]
    }
   ],
   "source": [
    "n = 8\n",
    "jobs = np.array([i for i in range(n)])\n",
    "dueDate = np.array([randint(0,n)*10 for _ in range(n)])\n",
    "print(\"jobs = \",jobs, \" duedate = \",dueDate)\n",
    "ordernedJobs = []\n",
    "qtdOrdenado = 0\n",
    "qtdParaSerOrdenado = n-1\n",
    "\n",
    "for j in range(n): \n",
    "    \n",
    "    edd = 9999999999\n",
    "    posicao = - 1\n",
    "    \n",
    "    for jBarra in range(n):\n",
    "        \n",
    "        if jBarra < qtdOrdenado:\n",
    "            #print(\"continue jbarra\",jBarra,\"qtdOrdenado = \",qtdOrdenado)\n",
    "            continue\n",
    "            \n",
    "        if dueDate[jBarra] < edd:\n",
    "            edd = dueDate[jBarra]\n",
    "            posicao = jBarra\n",
    "            #print(\"edd = \", edd,\"posicao = \",posicao)\n",
    "            \n",
    "    #print(\" dueDate[j] = \",  j,\"posicao = \",posicao)\n",
    "    \n",
    "    dueDate[j],dueDate[posicao] = dueDate[posicao],dueDate[j]\n",
    "    jobs[j],jobs[posicao] = jobs[posicao],jobs[j]\n",
    "    \n",
    "    #print(\"duedate = \",dueDate,\"jobs = \", jobs)\n",
    "    \n",
    "    qtdOrdenado = qtdOrdenado+1      \n",
    "           \n",
    "print(\"*jobs = \",jobs, \" *duedate = \",dueDate)"
   ]
  },
  {
   "cell_type": "code",
   "execution_count": null,
   "id": "ba6b9224",
   "metadata": {},
   "outputs": [],
   "source": []
  }
 ],
 "metadata": {
  "kernelspec": {
   "display_name": "Python 3",
   "language": "python",
   "name": "python3"
  },
  "language_info": {
   "codemirror_mode": {
    "name": "ipython",
    "version": 3
   },
   "file_extension": ".py",
   "mimetype": "text/x-python",
   "name": "python",
   "nbconvert_exporter": "python",
   "pygments_lexer": "ipython3",
   "version": "3.8.8"
  }
 },
 "nbformat": 4,
 "nbformat_minor": 5
}
