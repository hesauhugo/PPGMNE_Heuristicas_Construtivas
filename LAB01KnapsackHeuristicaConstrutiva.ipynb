{
 "cells": [
  {
   "cell_type": "code",
   "execution_count": 2,
   "id": "56b237c3",
   "metadata": {},
   "outputs": [],
   "source": [
    "import numpy as np\n",
    "import matplotlib.pyplot as plt\n",
    "from numpy.random import seed\n",
    "from numpy.random import randint"
   ]
  },
  {
   "cell_type": "code",
   "execution_count": 3,
   "id": "485324b2",
   "metadata": {},
   "outputs": [
    {
     "name": "stdout",
     "output_type": "stream",
     "text": [
      "c=  35\n",
      "n=  10\n",
      "x=  [0. 0. 0. 0. 0. 0. 0. 0. 0. 0.]\n",
      "w=  [8, 8, 6, 2, 8, 7, 2, 1, 5, 4]\n",
      "p=  [6.211338327692949, 5.29142094277039, 1.3457994534493356, 5.135781212657465, 1.8443986564691528, 7.853351478166735, 8.539752926394888, 4.942368373819278, 8.46561485357468, 0.7964547700906099]\n"
     ]
    }
   ],
   "source": [
    "c = 35\n",
    "n = 10\n",
    "x = np.zeros(n)\n",
    "seed(2)\n",
    "w = [randint(0,n) for _ in range(n)]\n",
    "p = [np.random.uniform(0,n) for _ in range(n)]\n",
    "\n",
    "\n",
    "print(\"c= \",c)\n",
    "print(\"n= \",n)\n",
    "print(\"x= \",x)\n",
    "print(\"w= \",w)\n",
    "print(\"p= \",p)\n",
    "\n",
    "           "
   ]
  },
  {
   "cell_type": "code",
   "execution_count": 4,
   "id": "4b3973b6",
   "metadata": {},
   "outputs": [
    {
     "name": "stdout",
     "output_type": "stream",
     "text": [
      "lucro'=  8.539752926394888 posicao =  6\n",
      "x'=  [0. 0. 0. 0. 0. 0. 1. 0. 0. 0.] soma= 2.0\n",
      "lucro'=  8.46561485357468 posicao =  8\n",
      "x'=  [0. 0. 0. 0. 0. 0. 1. 0. 1. 0.] soma= 7.0\n",
      "lucro'=  7.853351478166735 posicao =  5\n",
      "x'=  [0. 0. 0. 0. 0. 1. 1. 0. 1. 0.] soma= 14.0\n",
      "lucro'=  6.211338327692949 posicao =  0\n",
      "x'=  [1. 0. 0. 0. 0. 1. 1. 0. 1. 0.] soma= 22.0\n",
      "lucro'=  5.29142094277039 posicao =  1\n",
      "x'=  [1. 1. 0. 0. 0. 1. 1. 0. 1. 0.] soma= 30.0\n",
      "lucro'=  5.135781212657465 posicao =  3\n",
      "x'=  [1. 1. 0. 1. 0. 1. 1. 0. 1. 0.] soma= 32.0\n",
      "lucro'=  4.942368373819278 posicao =  7\n",
      "x'=  [1. 1. 0. 1. 0. 1. 1. 1. 1. 0.] soma= 33.0\n",
      "lucro'=  1.8443986564691528 posicao =  4\n",
      "x'=  [1. 1. 0. 1. 0. 1. 1. 1. 1. 0.] soma= 33.0\n",
      "*x=  [1. 1. 0. 1. 0. 1. 1. 1. 1. 0.] soma= 33.0\n"
     ]
    }
   ],
   "source": [
    "count = 0\n",
    "viavel  = True\n",
    "while viavel:\n",
    "    \n",
    "    lucro=0\n",
    "    posicaoAtiva = -1 \n",
    "    \n",
    "    for i in range(n):\n",
    "        \n",
    "        if x[i] == 1:\n",
    "            continue        \n",
    "       \n",
    "        #pega a posição do maior lucro\n",
    "        if lucro < p[i]:\n",
    "            lucro = p[i]\n",
    "            posicaoAtiva = i\n",
    "          \n",
    "    print(\"lucro'= \",lucro,\"posicao = \",posicaoAtiva)         \n",
    "    #se existe posicao ativada    \n",
    "    if posicaoAtiva>=0:\n",
    "        #copia a para um vetor temporário e faz a soma\n",
    "        xx= x.copy()\n",
    "        xx[posicaoAtiva]= 1 \n",
    "        soma = sum(w*xx)\n",
    "        #compara se a soma com a troca vai passar a capacidade da mochila\n",
    "        if soma < c:\n",
    "            #ativa a posição\n",
    "            x[posicaoAtiva] = 1\n",
    "        else:\n",
    "            viavel =False\n",
    "            \n",
    "    print(\"x'= \",x,\"soma=\" ,sum(x*w)) \n",
    "    \n",
    "                             \n",
    "print(\"*x= \",x,\"soma=\" ,sum(x*w))   \n",
    "            \n",
    "    \n",
    "    \n",
    "\n",
    " "
   ]
  },
  {
   "cell_type": "code",
   "execution_count": null,
   "id": "0e6a6a72",
   "metadata": {},
   "outputs": [],
   "source": []
  },
  {
   "cell_type": "code",
   "execution_count": null,
   "id": "a951e5db",
   "metadata": {},
   "outputs": [],
   "source": []
  },
  {
   "cell_type": "code",
   "execution_count": null,
   "id": "5ec94c6b",
   "metadata": {},
   "outputs": [],
   "source": []
  }
 ],
 "metadata": {
  "kernelspec": {
   "display_name": "Python 3",
   "language": "python",
   "name": "python3"
  },
  "language_info": {
   "codemirror_mode": {
    "name": "ipython",
    "version": 3
   },
   "file_extension": ".py",
   "mimetype": "text/x-python",
   "name": "python",
   "nbconvert_exporter": "python",
   "pygments_lexer": "ipython3",
   "version": "3.8.8"
  }
 },
 "nbformat": 4,
 "nbformat_minor": 5
}
